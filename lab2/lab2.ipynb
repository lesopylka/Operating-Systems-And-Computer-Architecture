{
 "cells": [
  {
   "cell_type": "markdown",
   "metadata": {},
   "source": [
    "## Лабораторная работа 2\n",
    "\n",
    "### Постановка задачи 1 (вариант 23):\n",
    "\n",
    "Написать скрипт, который сравнивает два числа, заданные при его запуске и выдает результат в виде строки:\n",
    "<число1> больше(меньше)(равно) <число2>\n",
    "\n",
    "2. Решение"
   ]
  },
  {
   "cell_type": "code",
   "execution_count": null,
   "metadata": {},
   "outputs": [],
   "source": [
    "import sys\n",
    "\n",
    "\n",
    "def error(inputData):\n",
    "    if len(inputData.split(' ')) != 2:\n",
    "        return True\n",
    "    return False\n",
    "\n",
    "\n",
    "def comparison(firstNumber, secondNumber):\n",
    "        if firstNumber > secondNumber:\n",
    "            return(f\"{firstNumber} больше {secondNumber}\")\n",
    "        elif firstNumber < secondNumber:\n",
    "            return(f\"{firstNumber} меньше {secondNumber}\")\n",
    "        else:\n",
    "            return(f\"{firstNumber} равно {secondNumber}\")\n",
    "\n",
    "\n",
    "def main(inputData):\n",
    "    if error(inputData):\n",
    "        print('wrong input')\n",
    "\n",
    "    firstNumber, secondNumber = map(int, inputData.split(' '))\n",
    "\n",
    "    print(comparison(firstNumber, secondNumber))    \n",
    "\n",
    "main(sys.argv[1])"
   ]
  },
  {
   "cell_type": "markdown",
   "metadata": {},
   "source": [
    "### 3. Тестирование\n",
    "\n",
    "Проверим 1 скрипт"
   ]
  },
  {
   "cell_type": "code",
   "execution_count": 11,
   "metadata": {},
   "outputs": [
    {
     "name": "stdout",
     "output_type": "stream",
     "text": [
      "1 меньше 2\n"
     ]
    },
    {
     "data": {
      "text/plain": [
       "0"
      ]
     },
     "execution_count": 11,
     "metadata": {},
     "output_type": "execute_result"
    }
   ],
   "source": [
    "import subprocess\n",
    "\n",
    "case143 = subprocess.Popen(['python3', 'task1.py', '1 2'])\n",
    "case143.wait()\n"
   ]
  },
  {
   "cell_type": "markdown",
   "metadata": {},
   "source": [
    "Проверим 2 скрипт"
   ]
  },
  {
   "cell_type": "code",
   "execution_count": 10,
   "metadata": {},
   "outputs": [
    {
     "name": "stdout",
     "output_type": "stream",
     "text": [
      "wrong input\n"
     ]
    },
    {
     "name": "stderr",
     "output_type": "stream",
     "text": [
      "Traceback (most recent call last):\n",
      "  File \"/Users/studioartmax/osi/lab2/task1.py\", line 28, in <module>\n",
      "    main(sys.argv[1])\n",
      "  File \"/Users/studioartmax/osi/lab2/task1.py\", line 24, in main\n",
      "    firstNumber, secondNumber = map(int, inputData.split(' '))\n",
      "ValueError: too many values to unpack (expected 2)\n"
     ]
    },
    {
     "data": {
      "text/plain": [
       "1"
      ]
     },
     "execution_count": 10,
     "metadata": {},
     "output_type": "execute_result"
    }
   ],
   "source": [
    "import subprocess\n",
    "\n",
    "case143 = subprocess.Popen(['python3', 'task1.py', '1 2 4'])\n",
    "case143.wait()"
   ]
  },
  {
   "cell_type": "markdown",
   "metadata": {},
   "source": [
    "### 4. Вывод\n",
    "\n",
    "Приобрела навыки разработки простейших командных процедур на командном языке ОС Unix (Windows)."
   ]
  }
 ],
 "metadata": {
  "kernelspec": {
   "display_name": "Python 3.10.0 64-bit",
   "language": "python",
   "name": "python3"
  },
  "language_info": {
   "codemirror_mode": {
    "name": "ipython",
    "version": 3
   },
   "file_extension": ".py",
   "mimetype": "text/x-python",
   "name": "python",
   "nbconvert_exporter": "python",
   "pygments_lexer": "ipython3",
   "version": "3.10.0"
  },
  "orig_nbformat": 4,
  "vscode": {
   "interpreter": {
    "hash": "aee8b7b246df8f9039afb4144a1f6fd8d2ca17a180786b69acc140d282b71a49"
   }
  }
 },
 "nbformat": 4,
 "nbformat_minor": 2
}
