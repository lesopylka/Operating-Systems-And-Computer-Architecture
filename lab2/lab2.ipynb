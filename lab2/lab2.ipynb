{
  "cells": [
   {
    "cell_type": "markdown",
    "metadata": {},
    "source": [
     "## Задача 1\n",
     "\n",
     "Написать скрипт, который сравнивает два числа, заданные при его запуске и выдает результат в виде строки:\n",
     "<число1> больше(меньше)(равно) <число2>"
    ]
   },
   {
    "cell_type": "code",
    "execution_count": 26,
    "metadata": {},
    "outputs": [
     {
      "data": {
       "text/plain": [
        "0"
       ]
      },
      "execution_count": 26,
      "metadata": {},
      "output_type": "execute_result"
     }
    ],
    "source": [
     "import subprocess\n",
     "\n",
     "case143 = subprocess.Popen(['python3', 'task1.py', '1 2 3'])\n",
     "case143.wait()\n"
    ]
   },
   {
    "cell_type": "markdown",
    "metadata": {},
    "source": [
     "## Задача 2\n",
     "Командная процедура, позволяющая добавлять строки как в конец, так и в начало указанного файла. Имя файла и место вставки строк задается в виде аргументов."
    ]
   },
   {
    "cell_type": "code",
    "execution_count": 22,
    "metadata": {},
    "outputs": [
     {
      "data": {
       "text/plain": [
        "0"
       ]
      },
      "execution_count": 22,
      "metadata": {},
      "output_type": "execute_result"
     }
    ],
    "source": [
     "import subprocess\n",
     "\n",
     "case143 = subprocess.Popen(['python3', 'task2.py', 'test end', 'end popen'])\n",
     "case143.wait()\n"
    ]
   }
  ],
  "metadata": {
   "kernelspec": {
    "display_name": "Python 3.9.7 64-bit",
    "language": "python",
    "name": "python3"
   },
   "language_info": {
    "codemirror_mode": {
     "name": "ipython",
     "version": 3
    },
    "file_extension": ".py",
    "mimetype": "text/x-python",
    "name": "python",
    "nbconvert_exporter": "python",
    "pygments_lexer": "ipython3",
    "version": "3.9.7"
   },
   "orig_nbformat": 4,
   "vscode": {
    "interpreter": {
     "hash": "397704579725e15f5c7cb49fe5f0341eb7531c82d19f2c29d197e8b64ab5776b"
    }
   }
  },
  "nbformat": 4,
  "nbformat_minor": 2
 }

