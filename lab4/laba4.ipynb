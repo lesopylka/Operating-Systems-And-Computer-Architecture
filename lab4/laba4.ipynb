{
 "cells": [
  {
   "cell_type": "markdown",
   "metadata": {},
   "source": [
    "## Лабораторная работа 4\n",
    "\n",
    "### 1.Постановка задачи (вариант 23):\n",
    "\n",
    "Реализовать мультинити (3 способами) и мультипроцессы (2 способами) выполнение фильтра, используя 1,2,3 варианты прерываний (лекции). Визуализировать распечаткой пары (время, номер- нити/процесса)\n",
    "\n",
    "Фильтр: разработать фильтр, выводящий слова из строки в столбик.\n",
    "\n",
    "## Решение"
   ]
  },
  {
   "cell_type": "markdown",
   "metadata": {},
   "source": [
    "#### Многопроцесcорность (multiprocessing) и многонитевость (multithreading)\n",
    "\n",
    "#### Определение 2. Процесс - объектное представление программы в компьютере, который управлеется ОС, как единицей ресурса.\n",
    "\n",
    "#### Процессу выделяется память,  для кода и его данных.    \n",
    "\n",
    "Процесс включает по крайней мере одну нить, которая имеет свои собственные регистры и стек. thread имеет доступ к данным процесса.\n",
    "\n",
    "#### Thread наименьшая последовательность инструкций, которая может управляться ОС - единица вычислений. ОС определяет когда и как долго Thread  может выполняться.\n",
    "\n",
    "#### Многонитевость \n",
    "Процесс может породить другую Thread - это будет многонитвость, с каждой Thread, имеющей собственные регистры и стек, то есть место в памяти и что наиболее важно с  доступом к пространству памяти процесса.\n",
    "Нитям доступны данные процесса. При создании нитей уровня пользователя, а не ядра, пользователь имеет доступ к данным.           \n",
    "\n",
    "#### Общие положения:   две нити не могут выполняться одновременно на одном CPU \n",
    "####                    Главная (main) нить - это нить выполнения программы (ячейки).\n",
    "####                    Каждая программа Python имеет хотя бы одну нить выполнения, называемую main. Как процессы, так и нити  создаются и управляются операционной системой."
   ]
  },
  {
   "cell_type": "markdown",
   "metadata": {},
   "source": [
    "#### Три способа порождения нитей (spawn threads)\n",
    "\n",
    "#### 1. fork() - системный вызов в Unix-подобных операционных системах\n",
    "\n",
    "fork() — создающий новый процесс (потомок), который является практически полной копией процесса-родителя, выполняющего этот вызов.\n",
    "\n",
    "После вызова fork() алгоритм обычно разветвляется (в случае успешного выполнения функции fork() она возвращает PID процесса-потомка родительскому процессу и нуль — процессу-потомку. Если порождение процесса-потомка закончилось неудачей, функция fork() возвращает значение −1).\n",
    "\n",
    "После fork() процесс-потомок чаще всего выполняет системный вызов exec(), загружающий в пространство процесса новую программу (именно так, и только так, в Unix-системе выполняется запуск программы в отдельном процессе). Так, первый (нулевой) процесс Unix (ядро системы) создаёт свою копию, чтобы запустить init (процесс с PID = 1), который в свою очередь создаёт дочерние процессы для запуска инициализации системы и терминалов. \n",
    " "
   ]
  },
  {
   "cell_type": "code",
   "execution_count": 2,
   "metadata": {},
   "outputs": [
    {
     "name": "stdout",
     "output_type": "stream",
     "text": [
      "Process ID: 4800\n",
      "Child's process ID: 0\n"
     ]
    },
    {
     "name": "stderr",
     "output_type": "stream",
     "text": [
      "/Users/studioartmax/Library/Python/3.9/lib/python/site-packages/traitlets/traitlets.py:2412: FutureWarning: Supporting extra quotes around strings is deprecated in traitlets 5.0. You can use 'hmac-sha256' instead of '\"hmac-sha256\"' if you require traitlets >=5.\n",
      "  warn(\n",
      "/Users/studioartmax/Library/Python/3.9/lib/python/site-packages/traitlets/traitlets.py:2366: FutureWarning: Supporting extra quotes around Bytes is deprecated in traitlets 5.0. Use 'ab7a85af-19fa-49e3-b6f1-2455c258fa88' instead of 'b\"ab7a85af-19fa-49e3-b6f1-2455c258fa88\"'.\n",
      "  warn(\n",
      "Traceback (most recent call last):\n",
      "  File \"/Users/studioartmax/Library/Python/3.9/lib/python/site-packages/ipykernel_launcher.py\", line 17, in <module>\n",
      "    app.launch_new_instance()\n",
      "  File \"/Users/studioartmax/Library/Python/3.9/lib/python/site-packages/traitlets/config/application.py\", line 981, in launch_instance\n",
      "    app.initialize(argv)\n",
      "  File \"/Users/studioartmax/Library/Python/3.9/lib/python/site-packages/traitlets/config/application.py\", line 110, in inner\n",
      "    return method(app, *args, **kwargs)\n",
      "  File \"/Users/studioartmax/Library/Python/3.9/lib/python/site-packages/ipykernel/kernelapp.py\", line 666, in initialize\n",
      "    self.init_sockets()\n",
      "  File \"/Users/studioartmax/Library/Python/3.9/lib/python/site-packages/ipykernel/kernelapp.py\", line 307, in init_sockets\n",
      "    self.shell_port = self._bind_socket(self.shell_socket, self.shell_port)\n",
      "  File \"/Users/studioartmax/Library/Python/3.9/lib/python/site-packages/ipykernel/kernelapp.py\", line 244, in _bind_socket\n",
      "    return self._try_bind_socket(s, port)\n",
      "  File \"/Users/studioartmax/Library/Python/3.9/lib/python/site-packages/ipykernel/kernelapp.py\", line 220, in _try_bind_socket\n",
      "    s.bind(\"tcp://%s:%i\" % (self.ip, port))\n",
      "  File \"/Users/studioartmax/Library/Python/3.9/lib/python/site-packages/zmq/sugar/socket.py\", line 232, in bind\n",
      "    super().bind(addr)\n",
      "  File \"zmq/backend/cython/socket.pyx\", line 568, in zmq.backend.cython.socket.Socket.bind\n",
      "  File \"zmq/backend/cython/checkrc.pxd\", line 28, in zmq.backend.cython.checkrc._check_rc\n",
      "zmq.error.ZMQError: Address already in use\n"
     ]
    },
    {
     "ename": "TypeError",
     "evalue": "execl() missing 1 required positional argument: 'file'",
     "output_type": "error",
     "traceback": [
      "\u001b[0;31m---------------------------------------------------------------------------\u001b[0m",
      "\u001b[0;31mTypeError\u001b[0m                                 Traceback (most recent call last)",
      "Cell \u001b[0;32mIn [2], line 7\u001b[0m\n\u001b[1;32m      5\u001b[0m \u001b[38;5;66;03m#pid = os.spawnve()\u001b[39;00m\n\u001b[1;32m      6\u001b[0m \u001b[38;5;28;01mif\u001b[39;00m pid \u001b[38;5;241m>\u001b[39m \u001b[38;5;241m0\u001b[39m:\n\u001b[0;32m----> 7\u001b[0m   \u001b[43mos\u001b[49m\u001b[38;5;241;43m.\u001b[39;49m\u001b[43mexecl\u001b[49m\u001b[43m(\u001b[49m\u001b[43m)\u001b[49m\n\u001b[1;32m      9\u001b[0m   \u001b[38;5;28mprint\u001b[39m(\u001b[38;5;124m\"\u001b[39m\u001b[38;5;124mProcess ID:\u001b[39m\u001b[38;5;124m\"\u001b[39m, os\u001b[38;5;241m.\u001b[39mgetpid())\n\u001b[1;32m     10\u001b[0m   \u001b[38;5;28mprint\u001b[39m(\u001b[38;5;124m\"\u001b[39m\u001b[38;5;124mChild\u001b[39m\u001b[38;5;124m'\u001b[39m\u001b[38;5;124ms process ID:\u001b[39m\u001b[38;5;124m\"\u001b[39m, pid)\n",
      "\u001b[0;31mTypeError\u001b[0m: execl() missing 1 required positional argument: 'file'"
     ]
    }
   ],
   "source": [
    "import os\n",
    "import sys\n",
    "\n",
    "pid = os.fork() # Windows не поддерживает\n",
    "#pid = os.spawnve()\n",
    "if pid > 0:\n",
    "  os.execl()\n",
    "    \n",
    "  print(\"Process ID:\", os.getpid())\n",
    "  print(\"Child's process ID:\", pid)\n",
    "\n",
    "else:  \n",
    "  print(\"Process ID:\", os.getpid())\n",
    "  print(\"Child's process ID:\", pid)\n",
    "  os.execl(sys.executable, sys.executable, *sys.argv) "
   ]
  },
  {
   "cell_type": "markdown",
   "metadata": {},
   "source": [
    "#### Объектно-ориентированный подход \n",
    "####  2.1  Наследование от класса Thread и создание объекта Thread конструктором"
   ]
  },
  {
   "cell_type": "code",
   "execution_count": 3,
   "metadata": {},
   "outputs": [
    {
     "name": "stdout",
     "output_type": "stream",
     "text": [
      "Hello\n",
      "world\n",
      "Threading name: Thread-5, \n",
      "run time: 0.0007827281951904297\n",
      "-----------------\n",
      "Hey\n",
      "man\n",
      "Threading name: Thread-6, \n",
      "run time: 5.698204040527344e-05\n",
      "-----------------\n",
      "How\n",
      "are\n",
      "u\n",
      "Threading name: Thread-7, \n",
      "run time: 6.29425048828125e-05\n",
      "-----------------\n",
      "Happy\n",
      "bithday\n",
      "Threading name: Thread-8, \n",
      "run time: 4.482269287109375e-05\n",
      "-----------------\n"
     ]
    }
   ],
   "source": [
    "import threading\n",
    "from time import time\n",
    "# Subclass the threading.Thread object and overwrite it's run() method with your code\n",
    "class CreateTheard(threading.Thread):\n",
    "    def __init__(self, string):\n",
    "        super(CreateTheard, self).__init__()\n",
    "        self.string = string\n",
    "    def run(self):\n",
    "        startTime = time()\n",
    "        letters = self.string.split()\n",
    "        for i in letters:\n",
    "            print(i)\n",
    "        print(f'Threading name: {self.name}, \\nrun time: {time() - startTime}')\n",
    "        print(\"-----------------\")\n",
    "        \n",
    "strings = [\"Hello world\", \"Hey man\", \"How are u\", \"Happy bithday\"]\n",
    "# Create object\n",
    "\n",
    "threads = [CreateTheard(i) for i in strings]\n",
    "    \n",
    "# Start each of the processes\n",
    "for t in threads: t.start()\n",
    "    \n",
    "# Join the processes\n",
    "for t in threads: t.join()"
   ]
  },
  {
   "cell_type": "markdown",
   "metadata": {},
   "source": [
    "#### Объектно-оиентированный подход \n",
    "####  2.2. Cоздание объекта Thread конструктором с параметром target =  объект "
   ]
  },
  {
   "cell_type": "code",
   "execution_count": 4,
   "metadata": {},
   "outputs": [
    {
     "name": "stdout",
     "output_type": "stream",
     "text": [
      "hello\n",
      "world!\n",
      "Run time: 0.00131988525390625, thread name: Thread-9\n"
     ]
    }
   ],
   "source": [
    "import threading\n",
    "from time import time\n",
    "# target =  foo - целевая функция \n",
    "def foo(string):\n",
    "    startTime = time()\n",
    "    letters = string.split()\n",
    "    for i in letters:\n",
    "        print(i)\n",
    "    print(f'Run time: {time() - startTime}, thread name: {threading.current_thread().name}')\n",
    "\n",
    "# Run the thread\n",
    "t1 = threading.Thread(target=foo, args=(\"hello world!\",))\n",
    "t1.start()\n",
    "t1.join()"
   ]
  },
  {
   "cell_type": "markdown",
   "metadata": {},
   "source": [
    "#### Многопроцессорность"
   ]
  },
  {
   "cell_type": "code",
   "execution_count": 5,
   "metadata": {},
   "outputs": [
    {
     "name": "stderr",
     "output_type": "stream",
     "text": [
      "Traceback (most recent call last):\n",
      "  File \"<string>\", line 1, in <module>\n",
      "  File \"/Library/Frameworks/Python.framework/Versions/3.9/lib/python3.9/multiprocessing/spawn.py\", line 116, in spawn_main\n",
      "    exitcode = _main(fd, parent_sentinel)\n",
      "  File \"/Library/Frameworks/Python.framework/Versions/3.9/lib/python3.9/multiprocessing/spawn.py\", line 126, in _main\n",
      "    self = reduction.pickle.load(from_parent)\n",
      "AttributeError: Can't get attribute 'CreateProcess' on <module '__main__' (built-in)>\n"
     ]
    }
   ],
   "source": [
    "import multiprocessing\n",
    "from time import time\n",
    "\n",
    "# Subclass the threading.Thread object and overwrite it's run() method with your code\n",
    "class CreateProcess(multiprocessing.Process):\n",
    "    def __init__(self, string):\n",
    "        super(CreateProcess, self).__init__()\n",
    "        self.string = string\n",
    "    def run(self):\n",
    "        startTime = time()\n",
    "        letters = self.string.split()\n",
    "        for i in letters:\n",
    "            print(i)\n",
    "        print(f'Process name: {self.name}, \\nrun time: {time() - startTime}')\n",
    "        print(\"-----------------\")\n",
    "        \n",
    "\n",
    "# Create object\n",
    "t1 = CreateProcess(\"Hello World!\")\n",
    "t1.start()\n",
    "t1.join()"
   ]
  },
  {
   "cell_type": "markdown",
   "metadata": {},
   "source": [
    "#### Прерывания: программные, аппаратные от таймера\n",
    "Определение  Прерывание - это механизм передачи управления между компоненнтами системы. \n",
    "             Прерывание - обработчик (handler) прерывания        "
   ]
  },
  {
   "cell_type": "code",
   "execution_count": 6,
   "metadata": {},
   "outputs": [
    {
     "name": "stdout",
     "output_type": "stream",
     "text": [
      "hello\n",
      "world\n",
      "Main thread waiting...\n",
      "Main thread waiting...\n",
      "Main thread waiting...\n",
      "Main thread waiting...\n",
      "Main thread waiting...\n",
      "Main thread waiting...\n",
      "Interrupting main thread now\n",
      "Main interrupted! Exiting.\n"
     ]
    }
   ],
   "source": [
    "from time import sleep\n",
    "from threading import Thread\n",
    "from _thread import interrupt_main\n",
    "import sys\n",
    " \n",
    "# task executed in a new thread\n",
    "def task(string):\n",
    "    letters = string.split()\n",
    "    for i in letters:\n",
    "        print(i)\n",
    "    sleep(3)\n",
    "    # interrupt the main thread\n",
    "    print('Interrupting main thread now')\n",
    "    interrupt_main()\n",
    " \n",
    "# start the new thread\n",
    "thread = Thread(target=task, args=(\"hello world\",))\n",
    "thread.start()\n",
    "# handle being interrupted\n",
    "try:\n",
    "    # wait around\n",
    "    while True:\n",
    "        print('Main thread waiting...')\n",
    "        sleep(0.5)\n",
    "except KeyboardInterrupt:   # cmd + C\n",
    "    # terminate main thread\n",
    "    print('Main interrupted! Exiting.')"
   ]
  },
  {
   "cell_type": "code",
   "execution_count": 7,
   "metadata": {},
   "outputs": [
    {
     "name": "stdout",
     "output_type": "stream",
     "text": [
      "helloMain thread waiting...\n",
      "\n",
      "world\n",
      "Main thread waiting...\n",
      "Main thread waiting...\n",
      "Main thread waiting...\n",
      "Main thread waiting...\n",
      "Main thread waiting...\n",
      "Interrupting main thread now\n",
      "Main interrupted! Exiting.\n"
     ]
    },
    {
     "ename": "SystemExit",
     "evalue": "",
     "output_type": "error",
     "traceback": [
      "An exception has occurred, use %tb to see the full traceback.\n",
      "\u001b[0;31mSystemExit\u001b[0m\n"
     ]
    }
   ],
   "source": [
    "# 2 Обработчик прерывания interrupting the main thread: handle with signal handler\n",
    "from time import sleep\n",
    "from threading import Thread\n",
    "from _thread import interrupt_main\n",
    "from signal import signal\n",
    "from signal import SIGINT\n",
    "import sys\n",
    " \n",
    "# handle single\n",
    "def handle_sigint(signalnum, frame):\n",
    "    # terminate\n",
    "    print('Main interrupted! Exiting.')\n",
    "    sys.exit()  #!!!!!!!!!!!!\n",
    " \n",
    "# task executed in a new thread\n",
    "def task(string):\n",
    "    letters = string.split()\n",
    "    for i in letters:\n",
    "        print(i)\n",
    "    sleep(3)\n",
    "    # interrupt the main thread\n",
    "    print('Interrupting main thread now')\n",
    "    interrupt_main()\n",
    " \n",
    "# register the signal handler for this process\n",
    "signal(SIGINT, handle_sigint)\n",
    "# start the new thread\n",
    "thread = Thread(target=task, args=(\"hello world\",))\n",
    "thread.start()\n",
    "# wait around\n",
    "while True:\n",
    "    print('Main thread waiting...')\n",
    "    sleep(0.5)\n"
   ]
  },
  {
   "cell_type": "code",
   "execution_count": 8,
   "metadata": {},
   "outputs": [
    {
     "name": "stdout",
     "output_type": "stream",
     "text": [
      "helloMain thread ожидает (waiting)...\n",
      "\n",
      "world\n",
      "Interrupting main thread сейчас\n",
      "Main thread прервана.\n"
     ]
    }
   ],
   "source": [
    "# 3 interrupting the main thread: из другй thread\n",
    "# Использование задержек\n",
    "# пример delay (отложенного прерывания main thread)\n",
    "# main thread не может быть прервана пока спит (sleeping)\n",
    "from time import sleep\n",
    "from threading import Thread\n",
    "from _thread import interrupt_main\n",
    "import sys\n",
    " \n",
    "# task executed in a new thread\n",
    "def task(string):\n",
    "    letters = string.split()\n",
    "    for i in letters:\n",
    "        print(i)\n",
    "    sleep(3)\n",
    "    # interrupt the main thread\n",
    "    print('Interrupting main thread сейчас')\n",
    "    interrupt_main()\n",
    " \n",
    "# start the new thread\n",
    "thread = Thread(target=task, args=(\"hello world\",))\n",
    "thread.start()\n",
    "# handle being interrupted\n",
    "try:\n",
    "    # block for a long time\n",
    "    print('Main thread ожидает (waiting)...')\n",
    "    sleep(7)\n",
    "except KeyboardInterrupt:\n",
    "    # terminate main thread\n",
    "    print('Main thread прервана.') # Cmd + C\n",
    "    #sys.exit()"
   ]
  }
 ],
 "metadata": {
  "kernelspec": {
   "display_name": "Python 3.10.0 64-bit",
   "language": "python",
   "name": "python3"
  },
  "language_info": {
   "codemirror_mode": {
    "name": "ipython",
    "version": 3
   },
   "file_extension": ".py",
   "mimetype": "text/x-python",
   "name": "python",
   "nbconvert_exporter": "python",
   "pygments_lexer": "ipython3",
   "version": "3.9.0"
  },
  "orig_nbformat": 4,
  "vscode": {
   "interpreter": {
    "hash": "aee8b7b246df8f9039afb4144a1f6fd8d2ca17a180786b69acc140d282b71a49"
   }
  }
 },
 "nbformat": 4,
 "nbformat_minor": 2
}
