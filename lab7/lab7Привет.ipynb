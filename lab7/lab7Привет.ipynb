{
 "cells": [
  {
   "cell_type": "code",
   "execution_count": 43,
   "id": "b4c42c61",
   "metadata": {},
   "outputs": [
    {
     "name": "stderr",
     "output_type": "stream",
     "text": [
      "Main process started.\n"
     ]
    },
    {
     "name": "stdout",
     "output_type": "stream",
     "text": [
      "\n",
      "!!! Thread Thread-5 (thread_task) in process Process-28 done with result: \n",
      "rmn\n",
      "s\n",
      "dlz\n",
      "mmqq (started with string rmn s dlz mmqq)\n",
      "Start time: 2022-12-24 00:11:35.192874\n",
      "End time: 2022-12-24 00:11:35.454813\n"
     ]
    },
    {
     "name": "stderr",
     "output_type": "stream",
     "text": [
      "Main process started.\n"
     ]
    },
    {
     "name": "stdout",
     "output_type": "stream",
     "text": [
      "\n",
      "!!! Thread Thread-6 (thread_task) in process Process-28 done with result: \n",
      "utd\n",
      "akm\n",
      "kqzp\n",
      "ht (started with string utd akm kqzp ht)\n",
      "Start time: 2022-12-24 00:11:35.193090\n",
      "End time: 2022-12-24 00:11:35.437786\n"
     ]
    },
    {
     "name": "stderr",
     "output_type": "stream",
     "text": [
      "Main process started.\n"
     ]
    },
    {
     "name": "stdout",
     "output_type": "stream",
     "text": [
      "\n",
      "!!! Thread Thread-7 (thread_task) in process Process-28 done with result: \n",
      "b\n",
      "h\n",
      "zsn\n",
      "pw (started with string b h zsn pw)\n",
      "Start time: 2022-12-24 00:11:35.193326\n",
      "End time: 2022-12-24 00:11:35.358453\n"
     ]
    },
    {
     "name": "stderr",
     "output_type": "stream",
     "text": [
      "| Process Process-28 done. |\n",
      "Start time: 2022-12-24 00:11:35.191923\n",
      "End time: 2022-12-24 00:11:35.455395\n"
     ]
    },
    {
     "name": "stdout",
     "output_type": "stream",
     "text": [
      "\n",
      "!!! Thread Thread-5 (thread_task) in process Process-30 done with result: \n",
      "zx\n",
      "zk\n",
      "mvy\n",
      "zain (started with string zx zk mvy zain)\n",
      "Start time: 2022-12-24 00:11:35.202293\n",
      "End time: 2022-12-24 00:11:35.418409\n"
     ]
    },
    {
     "name": "stderr",
     "output_type": "stream",
     "text": [
      "| Process Process-28 done. |\n",
      "Start time: 2022-12-24 00:11:35.191923\n",
      "End time: 2022-12-24 00:11:35.455395\n"
     ]
    },
    {
     "name": "stdout",
     "output_type": "stream",
     "text": [
      "\n",
      "!!! Thread Thread-6 (thread_task) in process Process-30 done with result: \n",
      "hyml\n",
      "f\n",
      "v\n",
      "zp (started with string hyml f v zp)\n",
      "Start time: 2022-12-24 00:11:35.202514\n",
      "End time: 2022-12-24 00:11:35.323316\n"
     ]
    },
    {
     "name": "stderr",
     "output_type": "stream",
     "text": [
      "Main process started.\n"
     ]
    },
    {
     "name": "stdout",
     "output_type": "stream",
     "text": [
      "\n",
      "!!! Thread Thread-7 (thread_task) in process Process-30 done with result: \n",
      "ewv\n",
      "feu\n",
      "jrnh\n",
      "lzzl (started with string ewv feu jrnh lzzl)\n",
      "Start time: 2022-12-24 00:11:35.202717\n",
      "End time: 2022-12-24 00:11:35.503763\n"
     ]
    },
    {
     "name": "stderr",
     "output_type": "stream",
     "text": [
      "| Process Process-28 done. |\n",
      "Start time: 2022-12-24 00:11:35.191923\n",
      "End time: 2022-12-24 00:11:35.455395\n"
     ]
    },
    {
     "name": "stdout",
     "output_type": "stream",
     "text": [
      "\n",
      "!!! Thread Thread-5 (thread_task) in process Process-29 done with result: \n",
      "vjpu\n",
      "lkf\n",
      "rdj\n",
      "jyec (started with string vjpu lkf rdj jyec)\n",
      "Start time: 2022-12-24 00:11:35.198106\n",
      "End time: 2022-12-24 00:11:35.920533\n"
     ]
    },
    {
     "name": "stderr",
     "output_type": "stream",
     "text": [
      "| Process Process-28 done. |\n",
      "Start time: 2022-12-24 00:11:35.191923\n",
      "End time: 2022-12-24 00:11:35.455395\n"
     ]
    },
    {
     "name": "stdout",
     "output_type": "stream",
     "text": [
      "\n",
      "!!! Thread Thread-6 (thread_task) in process Process-29 done with result: \n",
      "xrkt\n",
      "z\n",
      "jj\n",
      "fh (started with string xrkt z jj fh)\n",
      "Start time: 2022-12-24 00:11:35.198336\n",
      "End time: 2022-12-24 00:11:35.658516\n"
     ]
    },
    {
     "name": "stderr",
     "output_type": "stream",
     "text": [
      "| Process Process-30 done. |\n",
      "Start time: 2022-12-24 00:11:35.201467\n",
      "End time: 2022-12-24 00:11:35.504083\n"
     ]
    },
    {
     "name": "stdout",
     "output_type": "stream",
     "text": [
      "\n",
      "!!! Thread Thread-7 (thread_task) in process Process-29 done with result: \n",
      "rh\n",
      "yafr\n",
      "fo\n",
      "dauj (started with string rh yafr fo dauj)\n",
      "Start time: 2022-12-24 00:11:35.198527\n",
      "End time: 2022-12-24 00:11:36.051336\n"
     ]
    },
    {
     "name": "stderr",
     "output_type": "stream",
     "text": [
      "| Process Process-30 done. |\n",
      "Start time: 2022-12-24 00:11:35.201467\n",
      "End time: 2022-12-24 00:11:35.504083\n"
     ]
    },
    {
     "name": "stdout",
     "output_type": "stream",
     "text": [
      "\n",
      "!!! Thread Thread-5 (thread_task) in process Process-26 done with result: \n",
      "ig\n",
      "idby\n",
      "kvjp\n",
      "bhk (started with string ig idby kvjp bhk)\n",
      "Start time: 2022-12-24 00:11:35.181012\n",
      "End time: 2022-12-24 00:11:36.155396\n"
     ]
    },
    {
     "name": "stderr",
     "output_type": "stream",
     "text": [
      "Main process started.\n"
     ]
    },
    {
     "name": "stdout",
     "output_type": "stream",
     "text": [
      "\n",
      "!!! Thread Thread-6 (thread_task) in process Process-26 done with result: \n",
      "iwd\n",
      "jyn\n",
      "btp\n",
      "rni (started with string iwd jyn btp rni)\n",
      "Start time: 2022-12-24 00:11:35.181223\n",
      "End time: 2022-12-24 00:11:35.887415\n"
     ]
    },
    {
     "name": "stderr",
     "output_type": "stream",
     "text": [
      "| Process Process-28 done. |\n",
      "Start time: 2022-12-24 00:11:35.191923\n",
      "End time: 2022-12-24 00:11:35.455395\n"
     ]
    },
    {
     "name": "stdout",
     "output_type": "stream",
     "text": [
      "\n",
      "!!! Thread Thread-7 (thread_task) in process Process-26 done with result: \n",
      "zuu\n",
      "beho\n",
      "xdbz\n",
      "fyor (started with string zuu beho xdbz fyor)\n",
      "Start time: 2022-12-24 00:11:35.181427\n",
      "End time: 2022-12-24 00:11:36.115400\n"
     ]
    },
    {
     "name": "stderr",
     "output_type": "stream",
     "text": [
      "| Process Process-28 done. |\n",
      "Start time: 2022-12-24 00:11:35.191923\n",
      "End time: 2022-12-24 00:11:35.455395\n"
     ]
    },
    {
     "name": "stdout",
     "output_type": "stream",
     "text": [
      "\n",
      "!!! Thread Thread-5 (thread_task) in process Process-27 done with result: \n",
      "agax\n",
      "wylq\n",
      "ava\n",
      "b (started with string agax wylq ava b)\n",
      "Start time: 2022-12-24 00:11:35.187228\n",
      "End time: 2022-12-24 00:11:35.713571\n"
     ]
    },
    {
     "name": "stderr",
     "output_type": "stream",
     "text": [
      "| Process Process-29 done. |\n",
      "Start time: 2022-12-24 00:11:35.197224\n",
      "End time: 2022-12-24 00:11:36.051613\n"
     ]
    },
    {
     "name": "stdout",
     "output_type": "stream",
     "text": [
      "\n",
      "!!! Thread Thread-6 (thread_task) in process Process-27 done with result: \n",
      "y\n",
      "unf\n",
      "g\n",
      "sh (started with string y unf g sh)\n",
      "Start time: 2022-12-24 00:11:35.187404\n",
      "End time: 2022-12-24 00:11:36.161873\n"
     ]
    },
    {
     "name": "stderr",
     "output_type": "stream",
     "text": [
      "| Process Process-29 done. |\n",
      "Start time: 2022-12-24 00:11:35.197224\n",
      "End time: 2022-12-24 00:11:36.051613\n"
     ]
    },
    {
     "name": "stdout",
     "output_type": "stream",
     "text": [
      "\n",
      "!!! Thread Thread-7 (thread_task) in process Process-27 done with result: \n",
      "paty\n",
      "za\n",
      "w\n",
      "ac (started with string paty za w ac)\n",
      "Start time: 2022-12-24 00:11:35.187602\n",
      "End time: 2022-12-24 00:11:36.163226\n"
     ]
    },
    {
     "name": "stderr",
     "output_type": "stream",
     "text": [
      "| Process Process-30 done. |\n",
      "Start time: 2022-12-24 00:11:35.201467\n",
      "End time: 2022-12-24 00:11:35.504083\n"
     ]
    }
   ],
   "source": [
    "import random\n",
    "from random import randrange\n",
    "from time import sleep\n",
    "from threading import current_thread\n",
    "from multiprocessing import current_process\n",
    "from threading import Thread\n",
    "from multiprocessing import Process\n",
    "from multiprocessing import Queue,Pipe\n",
    "from logging.handlers import QueueHandler\n",
    "import logging\n",
    "import string\n",
    "from datetime import datetime\n",
    "import time\n",
    "import numpy as np\n",
    "import matplotlib.pyplot as plt\n",
    "import multiprocessing\n",
    "\n",
    "lock = multiprocessing.Lock()\n",
    "\n",
    "\n",
    "def randomword(length):\n",
    "   letters = string.ascii_lowercase\n",
    "   return ''.join(random.choice(letters) for i in range(length))\n",
    "\n",
    "\n",
    "def logger_process(queue,pipe):\n",
    "    input_conn, output_conn = pipe\n",
    "    input_conn.close()\n",
    "    logger = logging.getLogger('app')\n",
    "    logger.addHandler(logging.StreamHandler())\n",
    "    logger.setLevel(logging.DEBUG)\n",
    "    while True:\n",
    "        message_proc_name = queue.get()\n",
    "        if message_proc_name is None:\n",
    "            break\n",
    "        logger.handle(message_proc_name)\n",
    "        message_filter = output_conn.recv()\n",
    "        print(message_filter)\n",
    "\n",
    "\n",
    "def thread_task(str,results,index):\n",
    "    start = datetime.now()\n",
    "    sleep(random.random())\n",
    "    strbuff=''\n",
    "    strspl=str.split()\n",
    "    strbuff = str.replace(' ', '\\n')\n",
    "    strbuff = '\\n' + strbuff\n",
    "    thread_name = current_thread().name\n",
    "    process_name = current_process().name\n",
    "    end = datetime.now()\n",
    "    results[index] = f'\\n!!! Thread {thread_name} in process {process_name} done with result: {strbuff} (started with string {str})\\nStart time: {start}\\nEnd time: {end}'\n",
    "\n",
    "\n",
    "def process_task(queue,pipe,queue2):\n",
    "    start = datetime.now()\n",
    "    threads_start = []\n",
    "    threads_end = []\n",
    "    results=[None]*3\n",
    "    threads=[None]*3\n",
    "    input_conn, output_conn = pipe\n",
    "    output_conn.close()\n",
    "    logger = logging.getLogger('app')\n",
    "    logger.addHandler(QueueHandler(queue))\n",
    "    logger.setLevel(logging.DEBUG)\n",
    "    for n in range(len(threads)):\n",
    "        stringa=randomword(randrange(1, 5))+' '+randomword(randrange(1, 5))+' '+randomword(randrange(1, 5))+' '+randomword(randrange(1, 5))\n",
    "        threads[n] = Thread(target=thread_task, args=([stringa,results,n])) \n",
    "        threads[n].start()\n",
    "        threads_start.append(time.time())\n",
    "    for n in range(len(threads)):\n",
    "        threads[n].join()\n",
    "        threads_end.append(time.time())\n",
    "    for k in range(len(threads)):\n",
    "        input_conn.send(results[k])\n",
    "    process_name = current_process().name\n",
    "    end = datetime.now()\n",
    "    logger.info(f'| Process {process_name} done. |\\nStart time: {start}\\nEnd time: {end}')\n",
    "    queue2.put(threads_end)\n",
    "    \n",
    "start = time.time()\n",
    "processes_start = []\n",
    "processes_end = []\n",
    "queue = Queue()\n",
    "input_conn, output_conn = Pipe()\n",
    "queue2 = Queue()\n",
    "logger = logging.getLogger('app')\n",
    "logger.addHandler(QueueHandler(queue))\n",
    "logger.setLevel(logging.DEBUG)\n",
    "logger_p = Process(target=logger_process, args=(queue,(input_conn, output_conn)), daemon=True)\n",
    "logger_p.start()\n",
    "logger.info('Main process started.')\n",
    "processes = [Process(target=process_task, args=(queue,(input_conn, output_conn),queue2)) for i in range(5)]\n",
    "for process in processes:\n",
    "    process.start()\n",
    "    processes_start.append(time.time())\n",
    "\n",
    "\n",
    "for process in processes:\n",
    "    process.join()\n",
    "    processes_end.append(time.time())\n",
    "\n",
    "logger.info('Main process done.')\n",
    "queue.put(None)\n",
    "queue2.put(None)\n",
    "\n"
   ]
  },
  {
   "cell_type": "code",
   "execution_count": 44,
   "id": "13544ae6",
   "metadata": {},
   "outputs": [
    {
     "data": {
      "text/plain": [
       "<BarContainer object of 5 artists>"
      ]
     },
     "execution_count": 44,
     "metadata": {},
     "output_type": "execute_result"
    },
    {
     "data": {
      "image/png": "[encoded data removed]",
      "text/plain": [
       "<Figure size 640x480 with 1 Axes>"
      ]
     },
     "metadata": {},
     "output_type": "display_data"
    }
   ],
   "source": [
    "process_array_start = np.array(processes_start)-start\n",
    "process_array_end = np.array(processes_end)-start\n",
    "plt.barh(list(range(1,6)),process_array_end)"
   ]
  },
  {
   "cell_type": "code",
   "execution_count": 45,
   "id": "0fae4b65",
   "metadata": {},
   "outputs": [],
   "source": [
    "threads_end_array = []  \n",
    "while True:\n",
    "        threads_end = queue2.get()\n",
    "        if threads_end is None:\n",
    "            break\n",
    "        threads_end_array.append(threads_end)"
   ]
  },
  {
   "cell_type": "code",
   "execution_count": 46,
   "id": "83f8de3f",
   "metadata": {},
   "outputs": [
    {
     "data": {
      "text/plain": [
       "[<matplotlib.lines.Line2D at 0x7f7760495270>]"
      ]
     },
     "execution_count": 46,
     "metadata": {},
     "output_type": "execute_result"
    },
    {
     "data": {
      "image/png": "[encoded data removed]",
      "text/plain": [
       "<Figure size 640x480 with 1 Axes>"
      ]
     },
     "metadata": {},
     "output_type": "display_data"
    }
   ],
   "source": [
    "x = (np.array(threads_end_array)-start).reshape(1,15)[0]\n",
    "y = np.arange(0,15,1)\n",
    "plt.plot(x,y)"
   ]
  },
  {
   "cell_type": "code",
   "execution_count": null,
   "id": "24fdff75",
   "metadata": {},
   "outputs": [],
   "source": []
  }
 ],
 "metadata": {
  "kernelspec": {
   "display_name": "Python 3.11.0 64-bit",
   "language": "python",
   "name": "python3"
  },
  "language_info": {
   "codemirror_mode": {
    "name": "ipython",
    "version": 3
   },
   "file_extension": ".py",
   "mimetype": "text/x-python",
   "name": "python",
   "nbconvert_exporter": "python",
   "pygments_lexer": "ipython3",
   "version": "3.11.0"
  },
  "vscode": {
   "interpreter": {
    "hash": "1a1af0ee75eeea9e2e1ee996c87e7a2b11a0bebd85af04bb136d915cefc0abce"
   }
  }
 },
 "nbformat": 4,
 "nbformat_minor": 5
}
