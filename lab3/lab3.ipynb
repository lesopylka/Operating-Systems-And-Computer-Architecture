{
 "cells": [
  {
   "cell_type": "markdown",
   "metadata": {},
   "source": [
    "## Лабораторная работа 3\n",
    "\n",
    "### 1.Постановка задачи 1(вариант 23):\n",
    "\n",
    "Командная процедура, позволяющая добавлять строки как в конец, так и в начало указанного файла. Имя файла и место вставки строк задается в виде аргументов."
   ]
  },
  {
   "cell_type": "markdown",
   "metadata": {},
   "source": [
    "### 2.Решение"
   ]
  },
  {
   "cell_type": "code",
   "execution_count": null,
   "metadata": {},
   "outputs": [],
   "source": [
    "import sys\n",
    "\n",
    "def error(inputData):\n",
    "    if len(inputData.split(' ')) != 2:\n",
    "        return True\n",
    "    return False\n",
    "\n",
    "\n",
    "def file_handling(command, fileName, message):\n",
    "    if command == 'start':\n",
    "        o = open(fileName, \"r+\")\n",
    "        content = o.read()\n",
    "        o.seek(0, 0)\n",
    "        o.write(message.rstrip('\\r\\n') + \" \" + content)\n",
    "        o.close()\n",
    "    elif command == 'end':\n",
    "        o = open(fileName, \"a\")\n",
    "        o.write(\" \" + message)\n",
    "        o.close()\n",
    "    else:\n",
    "        return 'wrong argument'\n",
    "\n",
    "\n",
    "def main(inputData, message):\n",
    "    if error(inputData):\n",
    "        print('wrong input')\n",
    "\n",
    "    fileName, command = inputData.split(' ')\n",
    "\n",
    "    file_handling(command, fileName, message)\n",
    "\n",
    "main(sys.argv[1], sys.argv[2])"
   ]
  },
  {
   "cell_type": "markdown",
   "metadata": {},
   "source": [
    "### Тестирование\n",
    "\n",
    "Выполним командную процедуру и запишем текст в начало файла"
   ]
  },
  {
   "cell_type": "code",
   "execution_count": 1,
   "metadata": {},
   "outputs": [
    {
     "data": {
      "text/plain": [
       "0"
      ]
     },
     "execution_count": 1,
     "metadata": {},
     "output_type": "execute_result"
    }
   ],
   "source": [
    "import subprocess\n",
    "\n",
    "case143 = subprocess.Popen(['python3', 'task2.py', 'test start', '5'])\n",
    "case143.wait()\n"
   ]
  },
  {
   "cell_type": "markdown",
   "metadata": {},
   "source": [
    "Выполним командную процедуру и запишем текст в конец файла"
   ]
  },
  {
   "cell_type": "code",
   "execution_count": 2,
   "metadata": {},
   "outputs": [
    {
     "data": {
      "text/plain": [
       "0"
      ]
     },
     "execution_count": 2,
     "metadata": {},
     "output_type": "execute_result"
    }
   ],
   "source": [
    "import subprocess\n",
    "\n",
    "case143 = subprocess.Popen(['python3', 'task2.py', 'test end', '4'])\n",
    "case143.wait()\n"
   ]
  },
  {
   "cell_type": "markdown",
   "metadata": {},
   "source": [
    "### 4. Вывод\n",
    "\n",
    "Приобрела навыки разработки простейших командных процедур на командном языке ОС Unix (Windows)."
   ]
  }
 ],
 "metadata": {
  "kernelspec": {
   "display_name": "Python 3.10.0 64-bit",
   "language": "python",
   "name": "python3"
  },
  "language_info": {
   "codemirror_mode": {
    "name": "ipython",
    "version": 3
   },
   "file_extension": ".py",
   "mimetype": "text/x-python",
   "name": "python",
   "nbconvert_exporter": "python",
   "pygments_lexer": "ipython3",
   "version": "3.10.0"
  },
  "orig_nbformat": 4,
  "vscode": {
   "interpreter": {
    "hash": "aee8b7b246df8f9039afb4144a1f6fd8d2ca17a180786b69acc140d282b71a49"
   }
  }
 },
 "nbformat": 4,
 "nbformat_minor": 2
}
